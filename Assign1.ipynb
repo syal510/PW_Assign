{
 "cells": [
  {
   "cell_type": "markdown",
   "id": "6a2e5b4c-930b-4feb-87e5-740ee53c131e",
   "metadata": {},
   "source": [
    "# Assignment - 1"
   ]
  },
  {
   "cell_type": "markdown",
   "id": "e7c85f0f-925e-45aa-aadf-86a6588a7148",
   "metadata": {},
   "source": [
    "Q1. Create one variable containing following type of data: <br>\n",
    "(i) string<br>\n",
    "(ii) list<br>\n",
    "(iii) float<br>\n",
    "(iv) tuple<br>"
   ]
  },
  {
   "cell_type": "code",
   "execution_count": 1,
   "id": "a90d2486-ebe0-4296-83c0-430f7f8628e3",
   "metadata": {},
   "outputs": [
    {
     "name": "stdout",
     "output_type": "stream",
     "text": [
      "<class 'str'>\n"
     ]
    }
   ],
   "source": [
    "a = 'hello'\n",
    "print(type(a))"
   ]
  },
  {
   "cell_type": "code",
   "execution_count": 2,
   "id": "99c30233-eed3-448c-a75e-dc14f7050e45",
   "metadata": {},
   "outputs": [
    {
     "name": "stdout",
     "output_type": "stream",
     "text": [
      "<class 'list'>\n"
     ]
    }
   ],
   "source": [
    "b = [1,2,3,4]\n",
    "print(type(b))"
   ]
  },
  {
   "cell_type": "code",
   "execution_count": 3,
   "id": "ee081788-9d60-4126-a597-0a56deea8bc8",
   "metadata": {},
   "outputs": [
    {
     "name": "stdout",
     "output_type": "stream",
     "text": [
      "<class 'float'>\n"
     ]
    }
   ],
   "source": [
    "c = 4.565\n",
    "print(type(c))"
   ]
  },
  {
   "cell_type": "code",
   "execution_count": 4,
   "id": "aa7ced41-6548-4054-9fed-acf58389db09",
   "metadata": {},
   "outputs": [
    {
     "name": "stdout",
     "output_type": "stream",
     "text": [
      "<class 'tuple'>\n"
     ]
    }
   ],
   "source": [
    "d = (1,3,4,5)\n",
    "print(type(d))"
   ]
  },
  {
   "cell_type": "markdown",
   "id": "8c9e2269-586e-4160-b881-f64a510d44c3",
   "metadata": {},
   "source": [
    "Q2. Given are some following variables containing data:<br>\n",
    "(i) var1 = ‘ ‘<br>\n",
    "(ii) var2 = ‘[ DS , ML , Python]’<br>\n",
    "(iii) var3 = [ ‘DS’ , ’ML’ , ‘Python’ ]<br>\n",
    "(iv) var4 = 1.<br>"
   ]
  },
  {
   "cell_type": "code",
   "execution_count": 5,
   "id": "a95e2439-cc46-415d-af36-86a222d30d36",
   "metadata": {},
   "outputs": [
    {
     "name": "stdout",
     "output_type": "stream",
     "text": [
      "<class 'str'>\n"
     ]
    }
   ],
   "source": [
    "var1 =''\n",
    "print(type(var1))"
   ]
  },
  {
   "cell_type": "code",
   "execution_count": 6,
   "id": "2ad39169-7b12-4a9c-b6b2-f492c48db310",
   "metadata": {},
   "outputs": [
    {
     "name": "stdout",
     "output_type": "stream",
     "text": [
      "<class 'str'>\n"
     ]
    }
   ],
   "source": [
    "var2 = '[ DS , ML , Python]'\n",
    "print(type(var2))"
   ]
  },
  {
   "cell_type": "code",
   "execution_count": 7,
   "id": "46c5aac7-0fac-416b-8096-1f9b3f1dd2f7",
   "metadata": {},
   "outputs": [
    {
     "name": "stdout",
     "output_type": "stream",
     "text": [
      "<class 'list'>\n"
     ]
    }
   ],
   "source": [
    "var3 = [ 'DS' , 'ML' , 'Python']\n",
    "print(type(var3))"
   ]
  },
  {
   "cell_type": "code",
   "execution_count": 8,
   "id": "fa4586e2-aca5-4254-8bd8-20d075df8748",
   "metadata": {},
   "outputs": [
    {
     "name": "stdout",
     "output_type": "stream",
     "text": [
      "<class 'int'>\n"
     ]
    }
   ],
   "source": [
    "var4 = 1\n",
    "print(type(var4))"
   ]
  },
  {
   "cell_type": "markdown",
   "id": "4d61c950-19a1-45be-aaed-09e83b8c6cf2",
   "metadata": {},
   "source": [
    "Q3. Explain the use of the following operators using an example:<br>\n",
    "(i) /<br>\n",
    "(ii) %<br>\n",
    "(iii) //<br>\n",
    "(iv) **<br>"
   ]
  },
  {
   "cell_type": "code",
   "execution_count": 9,
   "id": "5c8c7ceb-f73b-4b50-b0dd-39c0e3254d62",
   "metadata": {},
   "outputs": [
    {
     "data": {
      "text/plain": [
       "2.5"
      ]
     },
     "execution_count": 9,
     "metadata": {},
     "output_type": "execute_result"
    }
   ],
   "source": [
    "# / is division operator\n",
    "5/2"
   ]
  },
  {
   "cell_type": "code",
   "execution_count": 10,
   "id": "cf086f45-d74a-4852-aeb7-76c043e96830",
   "metadata": {},
   "outputs": [
    {
     "data": {
      "text/plain": [
       "1"
      ]
     },
     "execution_count": 10,
     "metadata": {},
     "output_type": "execute_result"
    }
   ],
   "source": [
    "# % is remainder operator\n",
    "5%2"
   ]
  },
  {
   "cell_type": "code",
   "execution_count": 11,
   "id": "7ec410b2-d710-456b-ac27-471d115b24ab",
   "metadata": {},
   "outputs": [
    {
     "data": {
      "text/plain": [
       "2"
      ]
     },
     "execution_count": 11,
     "metadata": {},
     "output_type": "execute_result"
    }
   ],
   "source": [
    "# // is floor division operator\n",
    "5//2"
   ]
  },
  {
   "cell_type": "code",
   "execution_count": 12,
   "id": "91e7a412-d9c1-47e1-941b-8405f4935845",
   "metadata": {},
   "outputs": [
    {
     "data": {
      "text/plain": [
       "25"
      ]
     },
     "execution_count": 12,
     "metadata": {},
     "output_type": "execute_result"
    }
   ],
   "source": [
    "# ** is power operator\n",
    "5**2"
   ]
  },
  {
   "cell_type": "markdown",
   "id": "f75a36a6-c27d-4693-a245-d2690c4ca16d",
   "metadata": {},
   "source": [
    "Q4. Create a list of length 10 of your choice containing multiple types of data. Using for loop print the\n",
    "element and its data type."
   ]
  },
  {
   "cell_type": "code",
   "execution_count": 13,
   "id": "258da466-83f2-494b-bedc-22f5a6de90fa",
   "metadata": {},
   "outputs": [
    {
     "name": "stdout",
     "output_type": "stream",
     "text": [
      "10\n"
     ]
    }
   ],
   "source": [
    "l = [1,2,'a',3.4, 8+9j, [2,3,3],(4,21),22,44, 'op']\n",
    "print(len(l))"
   ]
  },
  {
   "cell_type": "code",
   "execution_count": 14,
   "id": "43e012ba-02e3-4b0c-90d9-bcd90519deb2",
   "metadata": {},
   "outputs": [
    {
     "name": "stdout",
     "output_type": "stream",
     "text": [
      "1\n",
      "2\n",
      "a\n",
      "3.4\n",
      "(8+9j)\n",
      "[2, 3, 3]\n",
      "(4, 21)\n",
      "22\n",
      "44\n",
      "op\n"
     ]
    }
   ],
   "source": [
    "for k in l:\n",
    "    print(k)"
   ]
  },
  {
   "cell_type": "markdown",
   "id": "3253a193-1b26-44e0-8609-87dcae95dcb1",
   "metadata": {},
   "source": [
    "Q5. Using a while loop, verify if the number A is purely divisible by number B and if so then how many\n",
    "times it can be divisible."
   ]
  },
  {
   "cell_type": "code",
   "execution_count": 15,
   "id": "80fd7d71-323a-4a82-b82c-49e84432c1de",
   "metadata": {},
   "outputs": [
    {
     "name": "stdout",
     "output_type": "stream",
     "text": [
      "2\n"
     ]
    }
   ],
   "source": [
    "a = 50\n",
    "b =5\n",
    "i=0\n",
    "while a%b==0:\n",
    "    i+=1\n",
    "    a = a/b\n",
    "print(i)\n",
    "    "
   ]
  },
  {
   "cell_type": "markdown",
   "id": "4af6887a-b14e-4c14-9159-2f11a2263159",
   "metadata": {},
   "source": [
    "Q6. Create a list containing 25 int type data. Using for loop and if-else condition print if the element is\n",
    "divisible by 3 or not."
   ]
  },
  {
   "cell_type": "code",
   "execution_count": 16,
   "id": "2a7fdb0f-c3a7-4bac-a28e-7637175c498b",
   "metadata": {},
   "outputs": [
    {
     "name": "stdout",
     "output_type": "stream",
     "text": [
      "0 is divisible by 3\n",
      "1 is not divisible by 3\n",
      "2 is not divisible by 3\n",
      "3 is divisible by 3\n",
      "4 is not divisible by 3\n",
      "5 is not divisible by 3\n",
      "6 is divisible by 3\n",
      "7 is not divisible by 3\n",
      "8 is not divisible by 3\n",
      "9 is divisible by 3\n",
      "10 is not divisible by 3\n",
      "11 is not divisible by 3\n",
      "12 is divisible by 3\n",
      "13 is not divisible by 3\n",
      "14 is not divisible by 3\n",
      "15 is divisible by 3\n",
      "16 is not divisible by 3\n",
      "17 is not divisible by 3\n",
      "18 is divisible by 3\n",
      "19 is not divisible by 3\n",
      "20 is not divisible by 3\n",
      "21 is divisible by 3\n",
      "22 is not divisible by 3\n",
      "23 is not divisible by 3\n",
      "24 is divisible by 3\n"
     ]
    }
   ],
   "source": [
    "l2 = list(range(25))\n",
    "for i in l2:\n",
    "    if i%3==0:\n",
    "        print(f'{i} is divisible by 3')\n",
    "    else:\n",
    "        print(f'{i} is not divisible by 3')"
   ]
  },
  {
   "cell_type": "markdown",
   "id": "28b38681-a836-4529-8348-e072c6784866",
   "metadata": {},
   "source": [
    "Q7. What do you understand about mutable and immutable data types? Give examples for both showing\n",
    "this property."
   ]
  },
  {
   "cell_type": "markdown",
   "id": "18b61b29-c34e-43d4-ba65-969aed53ff3e",
   "metadata": {},
   "source": [
    "In Mutable Datatypes, The elements can be modified without changing the entire variable e.g. list while such cannot be done with immutable data types e.g. string"
   ]
  },
  {
   "cell_type": "code",
   "execution_count": 17,
   "id": "082e572d-0a5a-40db-9bab-0c356613f1a2",
   "metadata": {},
   "outputs": [
    {
     "name": "stdout",
     "output_type": "stream",
     "text": [
      "[12, 23, 6, 7]\n"
     ]
    }
   ],
   "source": [
    "a = [12,35,6,7]\n",
    "a[1]=23\n",
    "print(a)"
   ]
  },
  {
   "cell_type": "code",
   "execution_count": 18,
   "id": "12971ed4-6a26-42ec-915c-3b33db524a78",
   "metadata": {},
   "outputs": [
    {
     "ename": "TypeError",
     "evalue": "'str' object does not support item assignment",
     "output_type": "error",
     "traceback": [
      "\u001b[0;31m---------------------------------------------------------------------------\u001b[0m",
      "\u001b[0;31mTypeError\u001b[0m                                 Traceback (most recent call last)",
      "Cell \u001b[0;32mIn[18], line 2\u001b[0m\n\u001b[1;32m      1\u001b[0m b \u001b[38;5;241m=\u001b[39m \u001b[38;5;124m'\u001b[39m\u001b[38;5;124mshthe\u001b[39m\u001b[38;5;124m'\u001b[39m\n\u001b[0;32m----> 2\u001b[0m \u001b[43mb\u001b[49m\u001b[43m[\u001b[49m\u001b[38;5;241;43m1\u001b[39;49m\u001b[43m]\u001b[49m  \u001b[38;5;241m=\u001b[39m \u001b[38;5;124m'\u001b[39m\u001b[38;5;124md\u001b[39m\u001b[38;5;124m'\u001b[39m\n",
      "\u001b[0;31mTypeError\u001b[0m: 'str' object does not support item assignment"
     ]
    }
   ],
   "source": [
    "b = 'shthe'\n",
    "b[1]  = 'd'"
   ]
  }
 ],
 "metadata": {
  "kernelspec": {
   "display_name": "Python 3 (ipykernel)",
   "language": "python",
   "name": "python3"
  },
  "language_info": {
   "codemirror_mode": {
    "name": "ipython",
    "version": 3
   },
   "file_extension": ".py",
   "mimetype": "text/x-python",
   "name": "python",
   "nbconvert_exporter": "python",
   "pygments_lexer": "ipython3",
   "version": "3.10.8"
  }
 },
 "nbformat": 4,
 "nbformat_minor": 5
}
