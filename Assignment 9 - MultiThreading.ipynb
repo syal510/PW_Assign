{
 "cells": [
  {
   "cell_type": "markdown",
   "id": "c2e91290-d64f-44e9-862b-61b1d9a8fecc",
   "metadata": {},
   "source": [
    "## Multi Threading"
   ]
  },
  {
   "cell_type": "markdown",
   "id": "3a30e8a5-e9db-485a-a24f-9e47c04d8fb8",
   "metadata": {},
   "source": [
    "**Q1. What is multithreading in python? Why is it used? Name the module used to handle threads in python**"
   ]
  },
  {
   "cell_type": "markdown",
   "id": "77b78a8d-8ab0-4c6c-8075-ba2607794b58",
   "metadata": {},
   "source": [
    "Multi Threading is the ability to handle mulitple threads simultaneously in the processor. It is used to create multiple instances of the same program by calling function once. 'threading' module is used to handle threads in python. "
   ]
  },
  {
   "cell_type": "markdown",
   "id": "3491a32a-f114-4861-832d-d5756ca0e41c",
   "metadata": {},
   "source": [
    "**Q2. Why threading module used? Write the use of the following functions**\n",
    "1. activeCount()\n",
    "2. currentThread()\n",
    "3. enumerate()"
   ]
  },
  {
   "cell_type": "markdown",
   "id": "ee038498-04b7-41dc-9171-f0b6d6affa27",
   "metadata": {},
   "source": [
    "Threading module is used to implement multi threading capability into the program.<br>\n",
    "Use of the different functions is listed below.\n",
    "1. activeCount() : Returns the number of thread objects that are active.\n",
    "2. currentThread() : Returns the current thread object.\n",
    "3. enumerate() : Returns a list of all thread objects that are currently alive."
   ]
  },
  {
   "cell_type": "markdown",
   "id": "f9494219-ccd7-4552-b183-2246f8dc5963",
   "metadata": {},
   "source": [
    "Q3. Explain the following functions\n",
    "1. run()\n",
    "2. start()\n",
    "3. join()\n",
    "4. isAlive()"
   ]
  },
  {
   "cell_type": "markdown",
   "id": "df7bed2f-0894-45e2-a542-c2daf0d8edb6",
   "metadata": {},
   "source": [
    "1. run() : It is used to run the thread.\n",
    "2. start(): Used to start a thread. It arranges for the objects run() method to be invoked in a separate thread control.\n",
    "3. join() : Delays a program's flow of execution until the target thread has been completely read\n",
    "4. isAlive(): tests whether the thread is alive "
   ]
  },
  {
   "cell_type": "markdown",
   "id": "c899d9fa-bb40-41be-9074-2cddcaa5a41a",
   "metadata": {},
   "source": [
    "**Q4. Write a python program to create two threads. Thread one must print the list of squares and thread two must print the list of cubes**"
   ]
  },
  {
   "cell_type": "code",
   "execution_count": 25,
   "id": "1be5bbdb-b139-4ace-9ffa-9b57275d7874",
   "metadata": {},
   "outputs": [],
   "source": [
    "import threading\n",
    "\n",
    "sqr_li = []\n",
    "cub_li = []\n",
    "def sq(num):\n",
    "    sqr_li.append(num**2)\n",
    "\n",
    "def cub(num):\n",
    "    cub_li.append(num**3)\n",
    "\n",
    "li = [1,2,3,4,5,6,7]\n",
    "\n",
    "thread1 = [threading.Thread(target = sq, args = (i,))for i in li]\n",
    "thread2 = [threading.Thread(target = cub, args = (i,)) for i in li]\n",
    "\n"
   ]
  },
  {
   "cell_type": "code",
   "execution_count": 26,
   "id": "aea7f1e2-1fae-42e2-97d1-55f96e9c6397",
   "metadata": {},
   "outputs": [
    {
     "name": "stdout",
     "output_type": "stream",
     "text": [
      "original list:  [1, 2, 3, 4, 5, 6, 7]\n",
      "squared list:  [1, 4, 9, 16, 25, 36, 49]\n",
      "cube list:  [1, 8, 27, 64, 125, 216, 343]\n"
     ]
    }
   ],
   "source": [
    "for t in thread1:\n",
    "    t.start()\n",
    "for k in thread2:\n",
    "    k.start()\n",
    "\n",
    "print(\"original list: \", li)    \n",
    "print(\"squared list: \",sqr_li)\n",
    "print(\"cube list: \",cub_li)\n"
   ]
  },
  {
   "cell_type": "markdown",
   "id": "6766116a-ab7a-4c59-882b-2b6f42309212",
   "metadata": {},
   "source": [
    "**Q5. State advantages and disadvantages of multithreading**"
   ]
  },
  {
   "cell_type": "markdown",
   "id": "e5c70206-ee38-45c3-b8df-50ec3fde098a",
   "metadata": {},
   "source": [
    "Advantages:\n",
    "1. Improved performance is achieved using multi threding.\n",
    "2. Parallelism is possible.\n",
    "3. Better resource utilization.\n",
    "4. Responsiveness is better in case a main thread blocks the memory then simultaneously another thread will start.\n",
    "\n",
    "Disadvantages:\n",
    "1. Increases program complexity.\n",
    "2. Difficult to debug the program \n",
    "3. Synchronization of shared resources is necessary which is memory intensive.\n"
   ]
  },
  {
   "cell_type": "markdown",
   "id": "9ea22550-fef7-44cd-9499-a40ff26d10f2",
   "metadata": {},
   "source": [
    "**Q6. Explain deadlocks and race conditions.**"
   ]
  },
  {
   "cell_type": "markdown",
   "id": "0f236bb8-44ce-48dc-bb01-ec1ed83ef8b3",
   "metadata": {},
   "source": [
    "Race condition: This occurs when two threads use the same variable at a given time.\n",
    "Deadlocks: It is a situation when more than one processes are blocked because it is holding a resource and also requires some other resource that is required by some other processes."
   ]
  }
 ],
 "metadata": {
  "kernelspec": {
   "display_name": "Python 3 (ipykernel)",
   "language": "python",
   "name": "python3"
  },
  "language_info": {
   "codemirror_mode": {
    "name": "ipython",
    "version": 3
   },
   "file_extension": ".py",
   "mimetype": "text/x-python",
   "name": "python",
   "nbconvert_exporter": "python",
   "pygments_lexer": "ipython3",
   "version": "3.10.8"
  }
 },
 "nbformat": 4,
 "nbformat_minor": 5
}
