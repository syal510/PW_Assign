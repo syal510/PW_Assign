{
 "cells": [
  {
   "cell_type": "markdown",
   "id": "65fb291f-5168-4678-8f32-9c33f7268e66",
   "metadata": {},
   "source": [
    "# Assignement 5 - OOPS"
   ]
  },
  {
   "cell_type": "markdown",
   "id": "347dcdfb-d922-4f7b-ac9b-c8517b395cc8",
   "metadata": {},
   "source": [
    "**Q1. Explain Class and Object with respect to Object-Oriented Programming. Give a suitable example.**"
   ]
  },
  {
   "cell_type": "markdown",
   "id": "0c240cbb-5d47-406d-a27e-aca1c4e814d9",
   "metadata": {},
   "source": [
    "In Object Oriented Programming, class is a blueprint for creating objects while object is an instance of that class. Class defines the behaviour and structure that objects will have, allowing us to create multiple instances with similar characterstics and functionalities. Example is as below:"
   ]
  },
  {
   "cell_type": "code",
   "execution_count": 2,
   "id": "8a937633-1efb-4459-8244-955201a5d9e3",
   "metadata": {},
   "outputs": [],
   "source": [
    "class car:\n",
    "    def __init__(self, make, model, top_speed):\n",
    "        self.__make = make\n",
    "        self.__model = model\n",
    "        self.__top_speed = top_speed\n",
    "        \n",
    "    def get_top_speed(self):\n",
    "        return self.__top_speed\n",
    "    \n",
    "    def get_car_spec(self):\n",
    "        return self.__make, self.__model, self.__top_speed"
   ]
  },
  {
   "cell_type": "code",
   "execution_count": 3,
   "id": "cd2b7cb9-fb45-4240-a043-8b4e5438411f",
   "metadata": {},
   "outputs": [],
   "source": [
    "car1 = car('toyota', 'fortuner', 180)\n",
    "car2 = car('mahindra','thar', 200)\n",
    "car3 = car('maruti','jimny', 40)"
   ]
  },
  {
   "cell_type": "code",
   "execution_count": 4,
   "id": "da174111-c469-4c41-ab82-5d5e9bd92c38",
   "metadata": {},
   "outputs": [
    {
     "data": {
      "text/plain": [
       "200"
      ]
     },
     "execution_count": 4,
     "metadata": {},
     "output_type": "execute_result"
    }
   ],
   "source": [
    "car2.get_top_speed()"
   ]
  },
  {
   "cell_type": "code",
   "execution_count": 5,
   "id": "5e679d54-4fd3-4059-8df7-02aa5882ca94",
   "metadata": {},
   "outputs": [
    {
     "data": {
      "text/plain": [
       "('maruti', 'jimny', 40)"
      ]
     },
     "execution_count": 5,
     "metadata": {},
     "output_type": "execute_result"
    }
   ],
   "source": [
    "car3.get_car_spec()"
   ]
  },
  {
   "cell_type": "markdown",
   "id": "a8286b90-d4da-42e1-9302-43b73929a0d7",
   "metadata": {},
   "source": [
    "In the above example, class is created with several instances or objects car1, car2, car3."
   ]
  },
  {
   "cell_type": "markdown",
   "id": "0956380b-2c09-4112-82fa-7c32e0cffa4a",
   "metadata": {},
   "source": [
    "**Q2. Name the four pillars of OOPs.**"
   ]
  },
  {
   "cell_type": "markdown",
   "id": "21aeb4e2-dd04-4017-b357-9ff87e9aa6f4",
   "metadata": {},
   "source": [
    "Four pillars of OOPs are: \n",
    "- Abstraction \n",
    "- encapsulation\n",
    "- Inheritance\n",
    "- Polymorphism"
   ]
  },
  {
   "cell_type": "markdown",
   "id": "7b8746ab-1ff1-4cb8-90b2-add540253ede",
   "metadata": {},
   "source": [
    "**Q3. Explain why the \\_\\_init\\_\\_() function is used. Give a suitable example.**"
   ]
  },
  {
   "cell_type": "markdown",
   "id": "79a35b36-857b-4df7-bcfe-8bb65e9ce6f2",
   "metadata": {},
   "source": [
    "__init__() function is used as a constructor which gets called when an object of a class is created.\n",
    "<br>This is used to initialize the attributes of the object and provide any necesssary setup or configuration."
   ]
  },
  {
   "cell_type": "code",
   "execution_count": 17,
   "id": "022087bd-43c0-4d2e-976b-48a836f52aed",
   "metadata": {},
   "outputs": [],
   "source": [
    "class car:\n",
    "    def __init__(self, make, model, top_speed):\n",
    "        self.make = make\n",
    "        self.model = model\n",
    "        self.top_speed = top_speed   \n",
    "                \n",
    "    def get_top_speed(self):\n",
    "        return self.__top_speed\n",
    "    \n",
    "    def get_car_spec(self):\n",
    "        return self.__make, self.__model, self.__top_speed"
   ]
  },
  {
   "cell_type": "code",
   "execution_count": 18,
   "id": "e1783e76-df0c-477c-8957-916fffef5412",
   "metadata": {},
   "outputs": [],
   "source": [
    "car1 = car('toyota', 'fortuner', 180)\n",
    "car2 = car('mahindra','thar', 200)\n",
    "car3 = car('maruti','jimny', 40)"
   ]
  },
  {
   "cell_type": "code",
   "execution_count": 19,
   "id": "476a038c-1ea5-483a-8f75-208aae1f2bb1",
   "metadata": {},
   "outputs": [
    {
     "data": {
      "text/plain": [
       "'toyota'"
      ]
     },
     "execution_count": 19,
     "metadata": {},
     "output_type": "execute_result"
    }
   ],
   "source": [
    "car1.make"
   ]
  },
  {
   "cell_type": "markdown",
   "id": "a39f110b-1aa9-4240-8b97-c7c7a64a18f8",
   "metadata": {},
   "source": [
    "The initial attributes of a car instance/object are initated using \\_\\_init\\_\\_"
   ]
  },
  {
   "cell_type": "markdown",
   "id": "3ddc374b-709d-4cab-ba97-c271ae3d0011",
   "metadata": {},
   "source": [
    "**Q4. Why self is used in OOPs?**"
   ]
  },
  {
   "cell_type": "markdown",
   "id": "bf835b1a-366c-48d9-88bb-17a5a1783c47",
   "metadata": {},
   "source": [
    "self keyword is used to refer instances of the class across the different methods within the class itself."
   ]
  },
  {
   "cell_type": "markdown",
   "id": "ff947544-ba64-4738-be51-b9907b917ba6",
   "metadata": {},
   "source": [
    "**Q5. What is inheritance? Give an example for each type of inheritance.**"
   ]
  },
  {
   "cell_type": "markdown",
   "id": "db956060-9a45-47f9-ad12-5c64353d1f3b",
   "metadata": {},
   "source": [
    "Inheritance permits a new class to attain the behaviour an existing class. Different types of inheritance are:\n",
    "- Single Inheritance\n",
    "- Multiple Inheritance\n",
    "- Multilevel Inheritance"
   ]
  },
  {
   "cell_type": "code",
   "execution_count": 38,
   "id": "a59a6678-bcf6-4ac1-a7a1-68e3fd663ec5",
   "metadata": {},
   "outputs": [
    {
     "name": "stdout",
     "output_type": "stream",
     "text": [
      "Parent class\n"
     ]
    }
   ],
   "source": [
    "# Single Inhertiance\n",
    "class parent:\n",
    "    def test1(self):\n",
    "        print('Parent class')\n",
    "        \n",
    "class child(parent):\n",
    "    pass\n",
    "\n",
    "child_obj = child()\n",
    "child_obj.test1()"
   ]
  },
  {
   "cell_type": "code",
   "execution_count": 42,
   "id": "62a1a5d2-05f4-4848-a6c2-80f4d8ad4ea2",
   "metadata": {},
   "outputs": [
    {
     "name": "stdout",
     "output_type": "stream",
     "text": [
      "This is class 1\n",
      "This is class 2\n"
     ]
    },
    {
     "data": {
      "text/plain": [
       "(None, None)"
      ]
     },
     "execution_count": 42,
     "metadata": {},
     "output_type": "execute_result"
    }
   ],
   "source": [
    "# Multiple Inhertiance\n",
    "class class1:\n",
    "    def test1(self):\n",
    "        print('This is class 1')\n",
    "        \n",
    "class class2():\n",
    "    def test2(self):\n",
    "        print('This is class 2')\n",
    "        \n",
    "class class3(class1, class2):\n",
    "    pass\n",
    "\n",
    "obj_class3 = class3()\n",
    "\n",
    "obj_class3.test1(), obj_class3.test2()"
   ]
  },
  {
   "cell_type": "code",
   "execution_count": 41,
   "id": "540e6f64-ce56-4506-a125-87db7a653a11",
   "metadata": {},
   "outputs": [
    {
     "name": "stdout",
     "output_type": "stream",
     "text": [
      " This is class 1\n",
      "This is class 2\n"
     ]
    },
    {
     "data": {
      "text/plain": [
       "(None, None)"
      ]
     },
     "execution_count": 41,
     "metadata": {},
     "output_type": "execute_result"
    }
   ],
   "source": [
    "# Multilevel Inheritance\n",
    "class class1:\n",
    "    def test1(self):\n",
    "        print(' This is class 1')\n",
    "        \n",
    "class class2(class1):\n",
    "    def test2(self):\n",
    "        print('This is class 2')\n",
    "        \n",
    "class class3(class2):\n",
    "    pass\n",
    "\n",
    "obj_class3 = class3()\n",
    "\n",
    "obj_class3.test1(), obj_class3.test2()"
   ]
  }
 ],
 "metadata": {
  "kernelspec": {
   "display_name": "Python 3 (ipykernel)",
   "language": "python",
   "name": "python3"
  },
  "language_info": {
   "codemirror_mode": {
    "name": "ipython",
    "version": 3
   },
   "file_extension": ".py",
   "mimetype": "text/x-python",
   "name": "python",
   "nbconvert_exporter": "python",
   "pygments_lexer": "ipython3",
   "version": "3.10.8"
  }
 },
 "nbformat": 4,
 "nbformat_minor": 5
}
