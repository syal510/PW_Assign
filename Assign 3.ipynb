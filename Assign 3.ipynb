{
 "cells": [
  {
   "cell_type": "markdown",
   "id": "5d758dd9-5feb-4758-942b-b272e47568e4",
   "metadata": {},
   "source": [
    "## Assignment 3"
   ]
  },
  {
   "cell_type": "markdown",
   "id": "230928dd-02e1-4e2a-aa4c-1f938b58d6c7",
   "metadata": {},
   "source": [
    "Q1. Which keyword is used to create a function? Create a function to return a list of odd numbers in the range of 1 to 25.\n"
   ]
  },
  {
   "cell_type": "markdown",
   "id": "ca368eb7-916e-4c58-b719-b8593a3a44bf",
   "metadata": {},
   "source": [
    "Def keyword is used to create function. Example of its usage is as below."
   ]
  },
  {
   "cell_type": "code",
   "execution_count": 1,
   "id": "d80ee47d-a1ac-439c-926a-e2b39138923a",
   "metadata": {},
   "outputs": [
    {
     "data": {
      "text/plain": [
       "[1,\n",
       " 2,\n",
       " 3,\n",
       " 4,\n",
       " 5,\n",
       " 6,\n",
       " 7,\n",
       " 8,\n",
       " 9,\n",
       " 10,\n",
       " 11,\n",
       " 12,\n",
       " 13,\n",
       " 14,\n",
       " 15,\n",
       " 16,\n",
       " 17,\n",
       " 18,\n",
       " 19,\n",
       " 20,\n",
       " 21,\n",
       " 22,\n",
       " 23,\n",
       " 24,\n",
       " 25]"
      ]
     },
     "execution_count": 1,
     "metadata": {},
     "output_type": "execute_result"
    }
   ],
   "source": [
    "def odd_nums(a):\n",
    "    return list(range(1,a+1))\n",
    "\n",
    "odd_nums(25)                "
   ]
  },
  {
   "cell_type": "markdown",
   "id": "90c4d286-fcb8-4fa5-9e46-c5b27c4dd85d",
   "metadata": {},
   "source": [
    "Q2. Why *args and **kwargs is used in some functions? Create a function each for *args and **kwargs to demonstrate their use."
   ]
  },
  {
   "cell_type": "markdown",
   "id": "849b1da6-e4b4-4272-bb82-7c7f634e59ac",
   "metadata": {},
   "source": [
    "*args is used to define the function when then number of input variables are not known in the begining. **kwargs is used to define key value pairs in the same way."
   ]
  },
  {
   "cell_type": "code",
   "execution_count": 2,
   "id": "d65d58f1-53ef-498b-8ac5-fb09425bb891",
   "metadata": {},
   "outputs": [
    {
     "data": {
      "text/plain": [
       "12"
      ]
     },
     "execution_count": 2,
     "metadata": {},
     "output_type": "execute_result"
    }
   ],
   "source": [
    "def fun1(*args):\n",
    "    return sum(args)\n",
    "\n",
    "fun1(1,2,4,5)"
   ]
  },
  {
   "cell_type": "code",
   "execution_count": 3,
   "id": "840f410b-503b-4bc4-9fd4-1fc0e5b6059a",
   "metadata": {},
   "outputs": [
    {
     "data": {
      "text/plain": [
       "37"
      ]
     },
     "execution_count": 3,
     "metadata": {},
     "output_type": "execute_result"
    }
   ],
   "source": [
    "fun1(4,5,6,7,7,8)"
   ]
  },
  {
   "cell_type": "code",
   "execution_count": 4,
   "id": "c4d2f2fe-e52e-4232-9230-89392ee499d9",
   "metadata": {},
   "outputs": [],
   "source": [
    "def fun2(**kwargs):\n",
    "    return kwargs.items()"
   ]
  },
  {
   "cell_type": "code",
   "execution_count": 5,
   "id": "46d3a351-28f8-495f-acdf-1ff4b274c9ba",
   "metadata": {},
   "outputs": [
    {
     "data": {
      "text/plain": [
       "dict_items([('a', 123), ('b', 456), ('c', 3421)])"
      ]
     },
     "execution_count": 5,
     "metadata": {},
     "output_type": "execute_result"
    }
   ],
   "source": [
    "fun2(a=123, b = 456, c =3421)"
   ]
  },
  {
   "cell_type": "markdown",
   "id": "b0636f11-2754-4bc9-a433-5682075df5a2",
   "metadata": {},
   "source": [
    "Q3. What is an iterator in python? Name the method used to initialise the iterator object and the method\n",
    "used for iteration. Use these methods to print the first five elements of the given list [2, 4, 6, 8, 10, 12, 14, 16,18, 20]."
   ]
  },
  {
   "cell_type": "markdown",
   "id": "6e694f5a-c42c-4e49-95a7-97a82342e10e",
   "metadata": {},
   "source": [
    "In Python, an iterator is an object that allows you to iterate over collections of data, such as lists, tuples, dictionaries, and sets. <br>\n",
    ".\\_iter\\_() is used to initialize the iterator and it must return an iterator object"
   ]
  },
  {
   "cell_type": "code",
   "execution_count": 6,
   "id": "5d8650af-35e3-4e6a-b96b-7dc72fb56ab1",
   "metadata": {},
   "outputs": [],
   "source": [
    "a1 = iter([2, 4, 6, 8, 10, 12, 14, 16,18, 20])\n"
   ]
  },
  {
   "cell_type": "code",
   "execution_count": 7,
   "id": "840257dc-ed8f-45ea-a2a2-df226d7a5236",
   "metadata": {},
   "outputs": [
    {
     "name": "stdout",
     "output_type": "stream",
     "text": [
      "2\n",
      "4\n",
      "6\n",
      "8\n",
      "10\n"
     ]
    }
   ],
   "source": [
    "for i in range(5):\n",
    "    print(next(a1))"
   ]
  },
  {
   "cell_type": "markdown",
   "id": "e0bdfd80-17c9-46fe-a8f8-d6d376232f74",
   "metadata": {},
   "source": [
    "Q4. What is a generator function in python? Why yield keyword is used? Give an example of a generator function."
   ]
  },
  {
   "cell_type": "markdown",
   "id": "7c4fc41c-f3d7-4401-b32d-7ec6dee11290",
   "metadata": {},
   "source": [
    "A Generator in Python is a function that returns an iterator using the Yield keyword. Generator functions are a special kind of function that return a lazy iterator. These are objects that you can loop over like a list. However, unlike lists, lazy iterators do not store their contents in memorygenerator functions are a special kind of function that return a lazy iterator. These are objects that you can loop over like a list.These are objects that you can loop over like a list. <br>\n",
    "Using yield will result in a generator object\n",
    "<br> Example is as below"
   ]
  },
  {
   "cell_type": "code",
   "execution_count": 8,
   "id": "4161851d-b62f-4b61-ab6e-9a54f8c7084c",
   "metadata": {},
   "outputs": [],
   "source": [
    "def fib(n):\n",
    "    a,b = 0,1\n",
    "    for i in list(range(n)):\n",
    "        yield a\n",
    "        b, a = a, a+b   "
   ]
  },
  {
   "cell_type": "code",
   "execution_count": 9,
   "id": "86d263ec-54bc-4fbc-b5d5-f5b598807840",
   "metadata": {},
   "outputs": [
    {
     "data": {
      "text/plain": [
       "[0, 1, 1, 2, 3, 5, 8, 13, 21, 34]"
      ]
     },
     "execution_count": 9,
     "metadata": {},
     "output_type": "execute_result"
    }
   ],
   "source": [
    "list(fib(10))"
   ]
  },
  {
   "cell_type": "markdown",
   "id": "fdd239bf-d528-4fe4-a84a-5529fc5e75b3",
   "metadata": {},
   "source": [
    "Q5. Create a generator function for prime numbers less than 1000. Use the next() method to print the first 20 prime numbers."
   ]
  },
  {
   "cell_type": "code",
   "execution_count": 10,
   "id": "831feaaf-3250-497c-96c4-20e936684a10",
   "metadata": {},
   "outputs": [],
   "source": [
    "def prime1():\n",
    "    n = 1000\n",
    "    # k = 2\n",
    "    prime = lambda j: all(j%x!=0 for x in range(2, int(j**0.5+1)))\n",
    "    for i in range(2, n):\n",
    "        if prime(i) == True:\n",
    "            yield(i)\n"
   ]
  },
  {
   "cell_type": "code",
   "execution_count": 11,
   "id": "64eaca94-d726-43e9-95bc-59d3f31425db",
   "metadata": {},
   "outputs": [],
   "source": [
    "prime_gen = prime1()"
   ]
  },
  {
   "cell_type": "code",
   "execution_count": 12,
   "id": "c175f4dc-c003-44f5-a0e9-b8a82eda433f",
   "metadata": {},
   "outputs": [
    {
     "name": "stdout",
     "output_type": "stream",
     "text": [
      "2\n",
      "3\n",
      "5\n",
      "7\n",
      "11\n",
      "13\n",
      "17\n",
      "19\n",
      "23\n",
      "29\n",
      "31\n",
      "37\n",
      "41\n",
      "43\n",
      "47\n",
      "53\n",
      "59\n",
      "61\n",
      "67\n",
      "71\n"
     ]
    }
   ],
   "source": [
    "for _ in range(20):\n",
    "    print(next(prime_gen))"
   ]
  }
 ],
 "metadata": {
  "kernelspec": {
   "display_name": "Python 3 (ipykernel)",
   "language": "python",
   "name": "python3"
  },
  "language_info": {
   "codemirror_mode": {
    "name": "ipython",
    "version": 3
   },
   "file_extension": ".py",
   "mimetype": "text/x-python",
   "name": "python",
   "nbconvert_exporter": "python",
   "pygments_lexer": "ipython3",
   "version": "3.10.8"
  }
 },
 "nbformat": 4,
 "nbformat_minor": 5
}
