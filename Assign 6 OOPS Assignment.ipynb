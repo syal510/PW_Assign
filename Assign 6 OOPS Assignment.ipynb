{
 "cells": [
  {
   "cell_type": "markdown",
   "id": "37753bcb-7413-4be9-98d8-e39b4d28b259",
   "metadata": {},
   "source": [
    "## OOPS Assignment"
   ]
  },
  {
   "cell_type": "markdown",
   "id": "2a7d61eb-4776-4334-939e-c9e706adf3ba",
   "metadata": {},
   "source": [
    "**Q1, Create a vehicle class with an init method having instance variables as name_of_vehicle, max_speed\n",
    "and average_of_vehicle.**"
   ]
  },
  {
   "cell_type": "code",
   "execution_count": 1,
   "id": "b8c3b1a2-84d9-4b4c-b2bb-635c00f1d810",
   "metadata": {},
   "outputs": [],
   "source": [
    "class vehicle:\n",
    "    \n",
    "    def __init__(self, name_of_vehicle, max_speed, average_of_vehicle):\n",
    "        self.name_of_vehicle = name_of_vehicle\n",
    "        self.max_speed = max_speed\n",
    "        self.average_of_vehicle = average_of_vehicle\n",
    "        \n",
    "    def car_spec(self):\n",
    "        return self.name_of_vehicle, self.max_speed, self.average_of_vehicle"
   ]
  },
  {
   "cell_type": "code",
   "execution_count": 2,
   "id": "9924391f-68a9-42d3-9654-044ef01965ad",
   "metadata": {},
   "outputs": [
    {
     "data": {
      "text/plain": [
       "('audi', 200, 5)"
      ]
     },
     "execution_count": 2,
     "metadata": {},
     "output_type": "execute_result"
    }
   ],
   "source": [
    "audi_car = vehicle('audi', 200, 5)\n",
    "audi_car.car_spec()"
   ]
  },
  {
   "cell_type": "markdown",
   "id": "db870ffa-388c-4040-b1f7-ffe6d3685f21",
   "metadata": {},
   "source": [
    "**Q2. Create a child class car from the vehicle class created in Que 1, which will inherit the vehicle class.\n",
    "Create a method named seating_capacity which takes capacity as an argument and returns the name of\n",
    "the vehicle and its seating capacity.**"
   ]
  },
  {
   "cell_type": "code",
   "execution_count": 3,
   "id": "d016ee53-3800-4518-afeb-c50977873c12",
   "metadata": {},
   "outputs": [],
   "source": [
    "class car(vehicle):\n",
    "    def seating_capacity(self, capacity):\n",
    "        self.capacity = capacity\n",
    "        return self.name_of_vehicle, self.capacity"
   ]
  },
  {
   "cell_type": "code",
   "execution_count": 4,
   "id": "53e5b0d2-e3ac-4e0f-b4f2-23afc5bad82d",
   "metadata": {},
   "outputs": [
    {
     "data": {
      "text/plain": [
       "('maserati', 2)"
      ]
     },
     "execution_count": 4,
     "metadata": {},
     "output_type": "execute_result"
    }
   ],
   "source": [
    "maserati_car = car('maserati', 300, 5)\n",
    "maserati_car.seating_capacity(2)"
   ]
  },
  {
   "cell_type": "markdown",
   "id": "3d248d88-d9a3-42e6-b807-3868c37e11fa",
   "metadata": {},
   "source": [
    "**Q3. What is multiple inheritance? Write a python code to demonstrate multiple inheritance.**"
   ]
  },
  {
   "cell_type": "markdown",
   "id": "fd96fb16-fb20-4c9f-a728-f1f9408cac76",
   "metadata": {},
   "source": [
    "Multiple inheritance allows a class to inherit the functionality of different methods from more than one class.\n",
    "Example is as below."
   ]
  },
  {
   "cell_type": "code",
   "execution_count": 5,
   "id": "57fb84a1-5f5b-45b2-8c2d-1ef787ff01a9",
   "metadata": {},
   "outputs": [
    {
     "name": "stdout",
     "output_type": "stream",
     "text": [
      "This is class 1\n",
      "This is class 2\n"
     ]
    },
    {
     "data": {
      "text/plain": [
       "(None, None)"
      ]
     },
     "execution_count": 5,
     "metadata": {},
     "output_type": "execute_result"
    }
   ],
   "source": [
    "# Multiple Inhertiance\n",
    "class class1:\n",
    "    def test1(self):\n",
    "        print('This is class 1')\n",
    "        \n",
    "class class2():\n",
    "    def test2(self):\n",
    "        print('This is class 2')\n",
    "        \n",
    "class class3(class1, class2):\n",
    "    pass\n",
    "\n",
    "obj_class3 = class3()\n",
    "\n",
    "obj_class3.test1(), obj_class3.test2()"
   ]
  },
  {
   "cell_type": "markdown",
   "id": "685c900b-9383-4d0a-a484-9240659b218b",
   "metadata": {},
   "source": [
    "**Q4. What are getter and setter in python? Create a class and create a getter and a setter method in this\n",
    "class.**"
   ]
  },
  {
   "cell_type": "markdown",
   "id": "6fb039e7-574f-480d-9f12-73ae2a363f11",
   "metadata": {},
   "source": [
    "Getter & Setter are used for Data Encapsulation in python. They are used to avoid the direct access to the user of particular class fields. @property decorator can be used to get or set a method in the class. Example is as below."
   ]
  },
  {
   "cell_type": "code",
   "execution_count": 6,
   "id": "4e6eb6e5-e11a-40aa-812a-1fa91b76e758",
   "metadata": {},
   "outputs": [],
   "source": [
    "## Getter\n",
    "class laptops:\n",
    "    def __init__(self, brand, processor, ram, price):\n",
    "        self.brand = brand\n",
    "        self.processor = processor\n",
    "        self.ram = ram\n",
    "        self.price = price\n",
    "    \n",
    "    @property\n",
    "    def laptop_price(self):\n",
    "        return self.price\n",
    "### Setter    \n",
    "    @laptop_price.setter\n",
    "    def laptop_price_bid(self, bid):\n",
    "        if bid < 50000:\n",
    "            pass\n",
    "        else:\n",
    "            self.price = bid"
   ]
  },
  {
   "cell_type": "code",
   "execution_count": 7,
   "id": "2559a45a-9d7f-41d3-8e2a-e3373fd5a6a1",
   "metadata": {},
   "outputs": [],
   "source": [
    "laptop1 = laptops('hp', 'amd', '32gb', 70000)"
   ]
  },
  {
   "cell_type": "code",
   "execution_count": 8,
   "id": "5f9dd32f-d7d1-4bf6-b59a-215252ffff7e",
   "metadata": {},
   "outputs": [
    {
     "data": {
      "text/plain": [
       "70000"
      ]
     },
     "execution_count": 8,
     "metadata": {},
     "output_type": "execute_result"
    }
   ],
   "source": [
    "laptop1.laptop_price"
   ]
  },
  {
   "cell_type": "code",
   "execution_count": 9,
   "id": "6f772445-42df-48bb-bf80-ca0ba8c37201",
   "metadata": {},
   "outputs": [],
   "source": [
    "laptop1.laptop_price_bid = 55000"
   ]
  },
  {
   "cell_type": "code",
   "execution_count": 10,
   "id": "371d6814-c16d-4897-b21b-6eab1b390e6e",
   "metadata": {},
   "outputs": [
    {
     "data": {
      "text/plain": [
       "55000"
      ]
     },
     "execution_count": 10,
     "metadata": {},
     "output_type": "execute_result"
    }
   ],
   "source": [
    "laptop1.laptop_price"
   ]
  },
  {
   "cell_type": "markdown",
   "id": "fe80d444-7f8b-410c-b842-e60991a7f260",
   "metadata": {},
   "source": [
    "**Q5.What is method overriding in python? Write a python code to demonstrate method overriding.**"
   ]
  },
  {
   "cell_type": "markdown",
   "id": "e5c97da1-1886-426d-9b07-e0d07593c5ed",
   "metadata": {},
   "source": [
    "Method overriding in python refers to the situation in which the subclass overwrites the implementation already defined in the superclass. Example is as below:"
   ]
  },
  {
   "cell_type": "code",
   "execution_count": 11,
   "id": "8f5b707b-241b-433c-87df-641248bc0ba0",
   "metadata": {},
   "outputs": [],
   "source": [
    "class boss:\n",
    "    def bossfun():\n",
    "        print(\"I'm the boss\")\n",
    "        \n",
    "class baby(boss):\n",
    "    def bossfun(self):\n",
    "        print(\"I'm just a baby.\")"
   ]
  },
  {
   "cell_type": "code",
   "execution_count": 12,
   "id": "98b8e34f-3564-4738-9b96-25a2ee15f06d",
   "metadata": {},
   "outputs": [
    {
     "name": "stdout",
     "output_type": "stream",
     "text": [
      "I'm the boss\n"
     ]
    }
   ],
   "source": [
    "boss_obj = boss()    \n",
    "boss.bossfun()"
   ]
  },
  {
   "cell_type": "code",
   "execution_count": 13,
   "id": "ff385e37-c118-4c9e-9b69-265c9da62f2e",
   "metadata": {},
   "outputs": [
    {
     "name": "stdout",
     "output_type": "stream",
     "text": [
      "I'm just a baby.\n"
     ]
    }
   ],
   "source": [
    "baby_obj = baby()\n",
    "baby_obj.bossfun()"
   ]
  },
  {
   "cell_type": "code",
   "execution_count": null,
   "id": "6e2a5a97-5323-45c8-ac43-d425b5c1573b",
   "metadata": {},
   "outputs": [],
   "source": []
  }
 ],
 "metadata": {
  "kernelspec": {
   "display_name": "Python 3 (ipykernel)",
   "language": "python",
   "name": "python3"
  },
  "language_info": {
   "codemirror_mode": {
    "name": "ipython",
    "version": 3
   },
   "file_extension": ".py",
   "mimetype": "text/x-python",
   "name": "python",
   "nbconvert_exporter": "python",
   "pygments_lexer": "ipython3",
   "version": "3.10.8"
  }
 },
 "nbformat": 4,
 "nbformat_minor": 5
}
