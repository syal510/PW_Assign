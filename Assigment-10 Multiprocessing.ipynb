{
 "cells": [
  {
   "cell_type": "markdown",
   "id": "9943c4ee-4c99-428e-8a30-0a62e84e3434",
   "metadata": {},
   "source": [
    "## Assignment - MultiProcessing"
   ]
  },
  {
   "cell_type": "markdown",
   "id": "54325293-a82c-4bb7-9b72-6b2f857bcf93",
   "metadata": {},
   "source": [
    "**Q1. What is multiprocessing in python? Why is it useful?**"
   ]
  },
  {
   "cell_type": "markdown",
   "id": "a0b08451-9c5a-4384-8f89-427e31f42186",
   "metadata": {},
   "source": [
    "Multiprocessing refers the ability to run multiple thread simultaneously in multiple cores of the processor. Computationally heavy tasks can be split across multiple cores enabling parallelism thus increasing the speed of execution."
   ]
  },
  {
   "cell_type": "markdown",
   "id": "6631fb00-d2e3-46ac-94e1-8b397de51d58",
   "metadata": {},
   "source": [
    "**Q2. What are the differences between multiprocessing and multithreading?**"
   ]
  },
  {
   "cell_type": "markdown",
   "id": "2e08115a-3456-4ee1-99bd-6891185d57b2",
   "metadata": {},
   "source": [
    "Multithreading refers to the ability of the processor to run mulitple threads simultaneously, where each thread runs a process.<br>\n",
    "Multiprocessing refers to the ability of the system to run multiple processors in parallel, where each processor can run one or more threads.\n"
   ]
  },
  {
   "cell_type": "markdown",
   "id": "71ed4016-2029-4e2d-84f0-452498dc560b",
   "metadata": {},
   "source": [
    "**Q3. Write a python code to create a process using the multiprocessing module.**"
   ]
  },
  {
   "cell_type": "code",
   "execution_count": null,
   "id": "22fc7e0d-4587-4e33-ab8e-91a332c474c1",
   "metadata": {},
   "outputs": [],
   "source": [
    "import multiprocessing\n",
    "def square(n):\n",
    "    return n**2\n",
    "    \n",
    "if __name__ == \"__main__\":\n",
    "    with multiprocessing.Pool(processes = 5) as pool:\n",
    "        out = pool.map(square, [2,3,4,5,6])\n",
    "        \n",
    "        print(out)\n",
    "    "
   ]
  },
  {
   "cell_type": "markdown",
   "id": "5d133ff3-b9b9-4de1-8294-91746613cb60",
   "metadata": {},
   "source": [
    "**Q4. What is a multiprocessing pool in python? Why is it used?**"
   ]
  },
  {
   "cell_type": "markdown",
   "id": "4820c1f0-f7aa-466d-9694-a4d2580c41fc",
   "metadata": {},
   "source": [
    "Multiprocessing pool is used for parallel execution of a function across multiple input values, distributing the input data across the processes."
   ]
  },
  {
   "cell_type": "markdown",
   "id": "21c44274-65f7-48f9-99ea-3d1401cd8c3d",
   "metadata": {},
   "source": [
    "**Q5. How can we create a pool of worker processes in python using the multiprocessing module?**"
   ]
  },
  {
   "cell_type": "markdown",
   "id": "a7c7dd74-56dc-4251-9ab7-0efdc0b17010",
   "metadata": {},
   "source": [
    "Using 'pool' class, a pool of worker processes can be created for multiprocessing in python."
   ]
  },
  {
   "cell_type": "markdown",
   "id": "a26bbe4c-c062-4874-ad63-8e2aa3e6c53d",
   "metadata": {},
   "source": [
    "**Q6. Write a python program to create 4 processes, each process should print a different number using the multiprocessing module in python.**"
   ]
  },
  {
   "cell_type": "code",
   "execution_count": 1,
   "id": "4280bc7c-fb84-4483-bd55-3c565b35f5a5",
   "metadata": {},
   "outputs": [
    {
     "name": "stdout",
     "output_type": "stream",
     "text": [
      "Process 1:1\n",
      "Process 2:2\n",
      "Process 3:3\n",
      "Process 4:4\n"
     ]
    }
   ],
   "source": [
    "import multiprocessing\n",
    "\n",
    "def print_num(num):\n",
    "    print(f\"Process {num}:{num}\")\n",
    "    \n",
    "if __name__ == \"__main__\":\n",
    "    processes = []\n",
    "    \n",
    "    for i in range(1, 5):\n",
    "        process = multiprocessing.Process(target = print_num, args = (i,))\n",
    "        processes.append(process)\n",
    "        process.start()\n",
    "        \n",
    "    for process in processes:\n",
    "        process.join()\n",
    "        "
   ]
  },
  {
   "cell_type": "code",
   "execution_count": null,
   "id": "a00c5a8d-c49d-4b2c-bda7-38503a83943b",
   "metadata": {},
   "outputs": [],
   "source": []
  }
 ],
 "metadata": {
  "kernelspec": {
   "display_name": "Python 3 (ipykernel)",
   "language": "python",
   "name": "python3"
  },
  "language_info": {
   "codemirror_mode": {
    "name": "ipython",
    "version": 3
   },
   "file_extension": ".py",
   "mimetype": "text/x-python",
   "name": "python",
   "nbconvert_exporter": "python",
   "pygments_lexer": "ipython3",
   "version": "3.10.8"
  }
 },
 "nbformat": 4,
 "nbformat_minor": 5
}
