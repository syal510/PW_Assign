{
 "cells": [
  {
   "cell_type": "markdown",
   "id": "8f00466c-5ba8-49ae-9e5e-ab30115217f3",
   "metadata": {},
   "source": [
    "# SQL Assignment"
   ]
  },
  {
   "cell_type": "markdown",
   "id": "cbd9d40f-089d-42bb-92e1-038e65628214",
   "metadata": {},
   "source": [
    "**Q1. What is a database? Differentiate between SQL and NoSQL databases.**"
   ]
  },
  {
   "cell_type": "markdown",
   "id": "d74a0fa7-6736-4e6e-993d-425ac8e9a83d",
   "metadata": {},
   "source": [
    "Database is an organised collection of data stored and accessed throught the use of database management system. <br>\n",
    "SQL databases are primarily called as relational databases. They are are manipulated using structured query language. They are vertically scalable. Eg. MySQL, PostgreSQL, Oracle\n",
    "NoSQL is also called as non relational databases. They have a dynamic schema for non structured data and are horizontally scalable. Eg. MongoDB, Cassandara\n"
   ]
  },
  {
   "cell_type": "markdown",
   "id": "ae6f8af7-5989-4735-95a6-eb66aecf15dc",
   "metadata": {},
   "source": [
    "**Q2. What is DDL? Explain why CREATE, DROP, ALTER, and TRUNCATE are used with an example.**"
   ]
  },
  {
   "cell_type": "markdown",
   "id": "469d1ac9-f07e-4e0b-a4de-91ae9863ecb5",
   "metadata": {},
   "source": [
    "DDL stands for Data Definition Language. It is used to create and modify the strucure of the database objects in database like views, schema, tables,indexes etc.<br>\n",
    "1. CREATE: This is used to build a new table.e.g <br>\n",
    "    CREATE DATABASE testdb\n",
    "2. DROP: This command is used to delete objects such as table, index or view.<br>\n",
    "    DROP TABLE testdb\n",
    "3. ALTER: It is used to modify an existing database. This command can add up additional columns, drop existing columns, and even exchange the data type of columns.<br>\n",
    "    e.g. ALTER TABLE Customers<br>\n",
    "         ADD Email varchar(255)\n",
    "4. TRUNCATE: It is used to quickly remove all records from a table.<br>\n",
    "    e.g. TRUNCATE TABLE Employee\n"
   ]
  },
  {
   "cell_type": "markdown",
   "id": "d2a2a241-f57c-4128-9a6f-23794e840d08",
   "metadata": {},
   "source": [
    "**Q3. What is DML? Explain INSERT, UPDATE, and DELETE with an example.**"
   ]
  },
  {
   "cell_type": "markdown",
   "id": "eabd53b6-1b06-4f83-9d75-c06b86aef5ac",
   "metadata": {},
   "source": [
    "DML stands for Data Manipulation Language. It is used to manipulate data within database. It allows to add, delete and alter data in a database. It is sublanguage of a larger data in a database language like SQL, with the DML containing some of the language's operator.\n",
    "1. INSERT: It is used to insert data into a new row in a table.<br>\n",
    "    e.g INSERT INTO ITEMS(NAME, QUANTITIY, PRICE)<BR>\n",
    "        VALUES('Chocolates', 45, 450)\n",
    "2. UPDATE: It is used to update the data present in an existing table of a database. It can be used to update single or multiple columns based on our specific needs. <br>\n",
    "    e.g. UPDATE ITEMS SET PRICE = 4500 WHERE NAME = 'Chocolates'\n",
    "3. DELETE: It is used to delete various records from a given table when the condition set in WHERE clause is satisfied. <br>\n",
    "    e.g. DELETE FROM ITEMS WHERE NAME = 'Chocolates' "
   ]
  },
  {
   "cell_type": "markdown",
   "id": "dddd3f0d-a4b5-40ce-9470-deeed2bcf629",
   "metadata": {},
   "source": [
    "**Q4. What is DQL? Explain SELECT with an example.**"
   ]
  },
  {
   "cell_type": "markdown",
   "id": "c02eaad1-2210-461b-b6bd-d7ae10bcf9ea",
   "metadata": {},
   "source": [
    "DQL statements are used for performing queries on the data and retrieve objects. SELECT command is used to query or retrieve data from a table in a database. Subset of records from one or more tables can be retrieved using this. e.g. <br>\n",
    "SELECT phone FROM DIRECTORY"
   ]
  },
  {
   "cell_type": "markdown",
   "id": "1f226f95-028b-4876-8b50-ce0e242ab87f",
   "metadata": {},
   "source": [
    "**Q5. Explain Primary Key and Foreign Key.**"
   ]
  },
  {
   "cell_type": "markdown",
   "id": "5e642437-103f-46ce-a88d-0d3cd77184f8",
   "metadata": {},
   "source": [
    "Primary Key is used to ensure data in specific column is unique. While, foreign key is a column or group of column in a relational database table that provides a link between two tables."
   ]
  },
  {
   "cell_type": "markdown",
   "id": "05329a50-7c45-48a2-9f22-ad5f276483bc",
   "metadata": {},
   "source": [
    "**Q6. Write a python code to connect MySQL to python. Explain the cursor() and execute() method.**"
   ]
  },
  {
   "cell_type": "markdown",
   "id": "06a0487b-d57e-4ee3-84d1-f93738e959a6",
   "metadata": {},
   "source": [
    "1. cursor() method: It as a construct which allows to iterate/traverse the records of a table. In MySQL you can use the cursor with in a stored program such as features, functions etc.\n",
    "2. execute() method: This method exectues the given database operation."
   ]
  },
  {
   "cell_type": "code",
   "execution_count": null,
   "id": "7d366801-e6f2-49ec-8634-3ee85c9c38f9",
   "metadata": {},
   "outputs": [],
   "source": [
    "import mysql.connector\n",
    "mydb = mysql.connector.connect(\n",
    "    host = \"localhost\",\n",
    "    user = \"abc\",\n",
    "    password = \"password\"\n",
    ")\n",
    "mycursor = mydb.cursor()\n"
   ]
  },
  {
   "cell_type": "markdown",
   "id": "12ddb4c2-052d-4881-8ef4-ff34b7264201",
   "metadata": {},
   "source": [
    "**Q7. Give the order of execution of SQL clauses in an SQL query.**"
   ]
  },
  {
   "cell_type": "markdown",
   "id": "fef30bf1-3e19-4564-9a85-6854e9363e5e",
   "metadata": {},
   "source": [
    "SQL Query execution order is as follows:<br>\n",
    "1. FROM\n",
    "2. WHERE\n",
    "3. GROUP BY\n",
    "4. HAVING\n",
    "5. SELECT \n",
    "6. ORDER BY\n",
    "7. LIMIT"
   ]
  }
 ],
 "metadata": {
  "kernelspec": {
   "display_name": "Python 3 (ipykernel)",
   "language": "python",
   "name": "python3"
  },
  "language_info": {
   "codemirror_mode": {
    "name": "ipython",
    "version": 3
   },
   "file_extension": ".py",
   "mimetype": "text/x-python",
   "name": "python",
   "nbconvert_exporter": "python",
   "pygments_lexer": "ipython3",
   "version": "3.10.8"
  }
 },
 "nbformat": 4,
 "nbformat_minor": 5
}
