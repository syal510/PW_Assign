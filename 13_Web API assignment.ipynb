{
 "cells": [
  {
   "cell_type": "markdown",
   "id": "754daa4d-3815-4a8f-b1b1-129de2cf834a",
   "metadata": {},
   "source": [
    "# Web API assignment"
   ]
  },
  {
   "cell_type": "markdown",
   "id": "cd1417a9-3b20-4870-abf0-471f4ad74fd9",
   "metadata": {},
   "source": [
    "**Q1. What is an API? Give an example, where an API is used in real life.**"
   ]
  },
  {
   "cell_type": "markdown",
   "id": "f0d1314d-d794-4142-b589-6011173c7138",
   "metadata": {},
   "source": [
    "API stands for Application Programming Interface. It is used to connect different software applications  to seamlessly interact with each otherand request and exchange information. It enables the integration of different software systems. E.g. Weather API from OpenWeatherMap is used to fetch the weather data from the servers by an external application. This data is sent by the weather api in json or xml format back to where the request was generated."
   ]
  },
  {
   "cell_type": "markdown",
   "id": "e3353021-87f0-4632-b80a-ffeae4c4899f",
   "metadata": {},
   "source": [
    "**Q2. Give advantages and disadvantages of using API.**"
   ]
  },
  {
   "cell_type": "markdown",
   "id": "0ab1783f-34c2-45c8-9d2e-188cf19e8b74",
   "metadata": {},
   "source": [
    "Advantages include interoperability of different software systems, reusability of existing codes & services, time and cost savings, specialized expertise, scalability, faster development, security, scalability.<br>\n",
    "Disadvantages include dependency on third party applications, limited control over functionality and performance, costs, data privacy, versioning and compatibility, variation of reliability of external API's"
   ]
  },
  {
   "cell_type": "markdown",
   "id": "4aeb199f-0783-4400-8106-cd205a6c4aed",
   "metadata": {},
   "source": [
    "**Q3. What is a Web API? Differentiate between API and Web API.**"
   ]
  },
  {
   "cell_type": "markdown",
   "id": "9f769f7d-8c83-410e-8078-2502e33a641a",
   "metadata": {},
   "source": [
    "Web API's are specifically designed to be accessed through standard web protocols. They use HTTP as communication portal and transfer data in the form of JSON or XML file. <br>\n",
    "Key Differences b/w API and Web API includes:<br>\n",
    "1. Scope: API refers to any interface that can communicate with other applications e.g. Desktop applications, libraries etc. while Web API's are specifically accessed over the internet using Web API's\n",
    "2. Communication Protocols: API's can use various communication protocols including HTTP but not limited to web protocols.\n",
    "3. Data Format: API's can transfer data in various data formats including binary data while Web API uses human readable formats like JSON/XML."
   ]
  },
  {
   "cell_type": "markdown",
   "id": "db7792d8-034d-400a-bcaa-7d4bf700ec45",
   "metadata": {},
   "source": [
    "**Q4. Explain REST and SOAP Architecture. Mention shortcomings of SOAP.**"
   ]
  },
  {
   "cell_type": "markdown",
   "id": "92e50ee5-84b6-403e-8733-9e299b18430d",
   "metadata": {},
   "source": [
    "**REST architecture(Representational State Transfer)**<br>\n",
    "It is used for designing networked application. It uses approach for building web services that are simple, scalable, and stateless. <br>\n",
    "**SOAP Architecture(Standard Object Access Protocol)**<br>\n",
    "It's a protocol for exchanging stored information from the implementation of web services. It is XML based making platform independent and self descriptive. Strict Protocol is defined for communication. SOAP has built in error handling mechanisms and support features like transactions and security. <br>\n",
    "**Shortcomings of SOAP**<br>\n",
    "SOAP is more complex, messages tend to be larger in size due to XML based format, Less Human Friendly and hard to debug, Limited Browser Support & Less flexible."
   ]
  },
  {
   "cell_type": "markdown",
   "id": "0904ce8d-4493-4544-a6c4-3ab16cf53e07",
   "metadata": {},
   "source": [
    "**Q5. Differentiate between REST and SOAP.**"
   ]
  },
  {
   "cell_type": "markdown",
   "id": "7587f6f8-6ff4-4e1c-93c7-3d2f0c3999c1",
   "metadata": {},
   "source": [
    "1. SOAP messages are typically communicated over XML, while REST uses web protocols like HTTP for communication and use standard HTTP methods like GET, POST, PULL and DELETE.\n",
    "2. SOAP is known for its complexity  while REST is more simple and lightweight.\n",
    "3. SOAP messages are transferred using XML while REST uses JSON, HTML, XML. \n",
    "4. SOAP messages are stateful while REST messages are stateless.\n",
    "5. SOAP is not natively supported by web browsers while RESTful services can be easily accessed from web browsers using standard HTTP methods."
   ]
  }
 ],
 "metadata": {
  "kernelspec": {
   "display_name": "Python 3 (ipykernel)",
   "language": "python",
   "name": "python3"
  },
  "language_info": {
   "codemirror_mode": {
    "name": "ipython",
    "version": 3
   },
   "file_extension": ".py",
   "mimetype": "text/x-python",
   "name": "python",
   "nbconvert_exporter": "python",
   "pygments_lexer": "ipython3",
   "version": "3.11.4"
  }
 },
 "nbformat": 4,
 "nbformat_minor": 5
}
