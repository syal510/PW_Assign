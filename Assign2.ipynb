{
 "cells": [
  {
   "cell_type": "markdown",
   "id": "23a62742-2972-446a-8971-0868833adcbb",
   "metadata": {},
   "source": [
    "# Assignment 2 "
   ]
  },
  {
   "cell_type": "markdown",
   "id": "cd4a5a33-69f7-434c-803b-9b373e5cb9f8",
   "metadata": {},
   "source": [
    "Q1. How do you comment code in Python? What are the different types of comments?"
   ]
  },
  {
   "cell_type": "markdown",
   "id": "61daa47d-8cf0-4cd5-bcd8-a1f3ea3c0a66",
   "metadata": {},
   "source": [
    "Single LIne Comments can be added using # and multi line comments can be added using apostrophe as shown in below example."
   ]
  },
  {
   "cell_type": "code",
   "execution_count": 1,
   "id": "2afdae90-1adb-444a-883d-c2bb325d8b45",
   "metadata": {},
   "outputs": [
    {
     "name": "stdout",
     "output_type": "stream",
     "text": [
      "2\n"
     ]
    }
   ],
   "source": [
    "# Single line comment\n",
    "# print(1)\n",
    "print(2)"
   ]
  },
  {
   "cell_type": "code",
   "execution_count": 2,
   "id": "3d237383-3c18-4122-b90e-86fad4c72597",
   "metadata": {},
   "outputs": [
    {
     "name": "stdout",
     "output_type": "stream",
     "text": [
      "4\n"
     ]
    }
   ],
   "source": [
    "'''\n",
    "This is a multi-line \n",
    "comment.\n",
    "print(3)\n",
    "''' \n",
    "print(4)\n"
   ]
  },
  {
   "cell_type": "markdown",
   "id": "39aae38d-4662-49a9-a6f2-a9882c0e7bd8",
   "metadata": {},
   "source": [
    "Q2. What are variables in Python? How do you declare and assign values to variables?"
   ]
  },
  {
   "cell_type": "markdown",
   "id": "3b25817c-9fd7-46d4-8c96-1d36736252c4",
   "metadata": {},
   "source": [
    "Python variables are containers that store values of different type like integer, floating point numbers, text, boolean etc. Declaration and assignment is shown in the below example"
   ]
  },
  {
   "cell_type": "code",
   "execution_count": 3,
   "id": "f7860bb3-2cf8-48bf-9dea-8876122c8b25",
   "metadata": {},
   "outputs": [
    {
     "name": "stdout",
     "output_type": "stream",
     "text": [
      "2 3.4 This is a text True (1+2j)\n"
     ]
    }
   ],
   "source": [
    "a = 2\n",
    "b = 3.4\n",
    "c = 'This is a text'\n",
    "d = True\n",
    "e = 1 + 2j\n",
    "print(a, b, c, d, e)"
   ]
  },
  {
   "cell_type": "markdown",
   "id": "904c0f33-1e95-4eeb-b267-da6560a92704",
   "metadata": {},
   "source": [
    "Q3. How do you convert one data type to another in Python?"
   ]
  },
  {
   "cell_type": "markdown",
   "id": "dc37ac79-6943-46d0-9d8d-0886bc07e024",
   "metadata": {},
   "source": [
    "Type conversion is shown in the below examples"
   ]
  },
  {
   "cell_type": "code",
   "execution_count": 4,
   "id": "76072c2c-fd88-4e43-afca-557af0354fd3",
   "metadata": {},
   "outputs": [
    {
     "name": "stdout",
     "output_type": "stream",
     "text": [
      "a =  2\n",
      "Type of a is: <class 'int'>\n",
      "\n",
      "Conversion from int to float:  2.0 \n",
      "It's type is: <class 'float'>\n",
      "\n",
      "Conversion from int to string:  2 \n",
      "It's type is: <class 'str'>\n"
     ]
    }
   ],
   "source": [
    "a = 2\n",
    "print('a = ',a)\n",
    "print('Type of a is:', type(a))\n",
    "print('\\nConversion from int to float: ', float(a), \"\\nIt's type is:\", type(float(a)))\n",
    "print('\\nConversion from int to string: ', str(a), \"\\nIt's type is:\", type(str(a)))"
   ]
  },
  {
   "cell_type": "markdown",
   "id": "b11989f3-84ee-41f2-b3be-9096874182f0",
   "metadata": {},
   "source": [
    "Q4. How do you write and execute a Python script from the command line?"
   ]
  },
  {
   "cell_type": "markdown",
   "id": "a6ae90d3-a5b4-44bd-90b5-1157948e3b42",
   "metadata": {},
   "source": [
    "For this, open the command line, then type python followed by the script name with extension .py <br>\n",
    "e.g. python run_this.py"
   ]
  },
  {
   "cell_type": "markdown",
   "id": "3e2a7aa3-fdea-4052-a6a6-f01aa5564668",
   "metadata": {},
   "source": [
    "Q5. Given a list my_list = [1, 2, 3, 4, 5], write the code to slice the list and obtain the sub-list [2, 3]."
   ]
  },
  {
   "cell_type": "code",
   "execution_count": 5,
   "id": "b4588136-50c9-4730-ad39-c6935b24af28",
   "metadata": {},
   "outputs": [
    {
     "name": "stdout",
     "output_type": "stream",
     "text": [
      "my_list: [1, 2, 3, 4, 5]\n",
      "sub_list: [2, 3]\n"
     ]
    }
   ],
   "source": [
    "my_list = [1, 2, 3, 4, 5]\n",
    "sub_list = my_list[1:3]\n",
    "print(f'my_list: {my_list}')\n",
    "print(f'sub_list: {sub_list}')"
   ]
  },
  {
   "cell_type": "markdown",
   "id": "6d1fe226-69da-4208-bdf9-492128338f5a",
   "metadata": {},
   "source": [
    "Q6. What is a complex number in mathematics, and how is it represented in Python?"
   ]
  },
  {
   "cell_type": "markdown",
   "id": "b62aac33-c47c-4cf4-b650-74c9e119208d",
   "metadata": {},
   "source": [
    "Complex numbers are the numbers that are expressed in the form of a+ib where, a,b are real numbers and  ‘i’ is an imaginary number called “iota”. The value of i = sqrt(-1). Complex numbers are defined as follows in python."
   ]
  },
  {
   "cell_type": "code",
   "execution_count": 6,
   "id": "0edf4779-0f71-4f4e-b9dc-734873fb668c",
   "metadata": {},
   "outputs": [
    {
     "name": "stdout",
     "output_type": "stream",
     "text": [
      "(1+2j) <class 'complex'>\n"
     ]
    }
   ],
   "source": [
    "b = 1 + 2j\n",
    "print(b, type(b))\n"
   ]
  },
  {
   "cell_type": "markdown",
   "id": "df58027b-49e4-437b-9491-b86fafe2ed80",
   "metadata": {},
   "source": [
    "Q7. What is the correct way to declare a variable named age and assign the value 25 to it?"
   ]
  },
  {
   "cell_type": "code",
   "execution_count": 7,
   "id": "710a0b62-c809-49a0-af00-0cc0e43ea59a",
   "metadata": {},
   "outputs": [
    {
     "name": "stdout",
     "output_type": "stream",
     "text": [
      "25\n"
     ]
    }
   ],
   "source": [
    "age = 25\n",
    "print(age)"
   ]
  },
  {
   "cell_type": "markdown",
   "id": "3d0b003c-10cc-45c8-acc8-601f927c2c3a",
   "metadata": {},
   "source": [
    "Q8. Declare a variable named price and assign the value 9.99 to it. What data type does this variable\n",
    "belong to?"
   ]
  },
  {
   "cell_type": "code",
   "execution_count": 8,
   "id": "68be5f60-8672-47f7-9e65-7421f51c351d",
   "metadata": {},
   "outputs": [
    {
     "name": "stdout",
     "output_type": "stream",
     "text": [
      "9.99 <class 'float'>\n",
      "Price has a float class\n"
     ]
    }
   ],
   "source": [
    "price = 9.99\n",
    "print(price, type(price))\n",
    "print('Price has a float class')"
   ]
  },
  {
   "cell_type": "markdown",
   "id": "cc28c9a7-1d1a-470e-8605-ceb663a79007",
   "metadata": {},
   "source": [
    "Q9. Create a variable named name and assign your full name to it as a string. How would you print the\n",
    "value of this variable?"
   ]
  },
  {
   "cell_type": "code",
   "execution_count": 9,
   "id": "256363e3-667e-45fb-b248-6d300d88096c",
   "metadata": {},
   "outputs": [
    {
     "name": "stdout",
     "output_type": "stream",
     "text": [
      "Alpha Beta\n"
     ]
    }
   ],
   "source": [
    "name = 'Alpha Beta'\n",
    "print(name)"
   ]
  },
  {
   "cell_type": "markdown",
   "id": "341837f2-eeca-48e8-a306-7a00d53482ae",
   "metadata": {},
   "source": [
    "Q10. Given the string \"Hello, World!\", extract the substring \"World\"."
   ]
  },
  {
   "cell_type": "code",
   "execution_count": 10,
   "id": "56f8b2b0-4ef0-49ff-9910-b008e546492d",
   "metadata": {},
   "outputs": [
    {
     "name": "stdout",
     "output_type": "stream",
     "text": [
      "Hello, World! \n",
      " World\n"
     ]
    }
   ],
   "source": [
    "text1 = \"Hello, World!\"\n",
    "text1_extracted = text1.split(\" \")[1][:-1]\n",
    "print(text1,'\\n' ,text1_extracted)"
   ]
  },
  {
   "cell_type": "markdown",
   "id": "ef58063f-430f-4404-b530-c4840f0f54c6",
   "metadata": {},
   "source": [
    "Q11. Create a variable named \"is_student\" and assign it a boolean value indicating whether you are\n",
    "currently a student or not."
   ]
  },
  {
   "cell_type": "code",
   "execution_count": 11,
   "id": "ded488d8-8b7e-4daf-989d-189b58ac91cc",
   "metadata": {},
   "outputs": [],
   "source": [
    "is_student = True"
   ]
  }
 ],
 "metadata": {
  "kernelspec": {
   "display_name": "Python 3 (ipykernel)",
   "language": "python",
   "name": "python3"
  },
  "language_info": {
   "codemirror_mode": {
    "name": "ipython",
    "version": 3
   },
   "file_extension": ".py",
   "mimetype": "text/x-python",
   "name": "python",
   "nbconvert_exporter": "python",
   "pygments_lexer": "ipython3",
   "version": "3.10.8"
  }
 },
 "nbformat": 4,
 "nbformat_minor": 5
}
