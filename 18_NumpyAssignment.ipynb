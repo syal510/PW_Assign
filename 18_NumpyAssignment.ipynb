{
 "cells": [
  {
   "cell_type": "markdown",
   "id": "50abdce5-f800-4917-9acd-8aa1236017d1",
   "metadata": {},
   "source": [
    "# Numpy Assignment"
   ]
  },
  {
   "cell_type": "code",
   "execution_count": 6,
   "id": "17c6506f-ee42-4f7c-a7c5-380cb46f0f8c",
   "metadata": {},
   "outputs": [],
   "source": [
    "import numpy as np\n",
    "list1 = ['1', '2', '3', '4', '5']\n",
    "array_list = np.array(object = list1)"
   ]
  },
  {
   "cell_type": "code",
   "execution_count": 7,
   "id": "dadb4bfc-35fa-4e85-9be6-c2ff424d3e5d",
   "metadata": {},
   "outputs": [
    {
     "data": {
      "text/plain": [
       "array(['1', '2', '3', '4', '5'], dtype='<U1')"
      ]
     },
     "execution_count": 7,
     "metadata": {},
     "output_type": "execute_result"
    }
   ],
   "source": [
    "array_list"
   ]
  },
  {
   "cell_type": "markdown",
   "id": "c18462d6-efea-4b85-88fc-ca41549da0b2",
   "metadata": {},
   "source": [
    "Q1. Is there any difference in the data type of variables list_ and array_list? If there is then write a code\n",
    "to print the data types of both the variables."
   ]
  },
  {
   "cell_type": "code",
   "execution_count": 9,
   "id": "34d3f2ac-74b2-4055-9983-37517e9ebec2",
   "metadata": {},
   "outputs": [
    {
     "data": {
      "text/plain": [
       "list"
      ]
     },
     "execution_count": 9,
     "metadata": {},
     "output_type": "execute_result"
    }
   ],
   "source": [
    "type(list1)"
   ]
  },
  {
   "cell_type": "code",
   "execution_count": 10,
   "id": "626b8855-7c10-41e2-839a-17cc8ecf7c52",
   "metadata": {},
   "outputs": [
    {
     "data": {
      "text/plain": [
       "numpy.ndarray"
      ]
     },
     "execution_count": 10,
     "metadata": {},
     "output_type": "execute_result"
    }
   ],
   "source": [
    "type(array_list)"
   ]
  },
  {
   "cell_type": "markdown",
   "id": "edbdc0e7-49d7-4a96-a363-99c2274d225b",
   "metadata": {},
   "source": [
    "The data type is different for both as seen above."
   ]
  },
  {
   "cell_type": "markdown",
   "id": "acdd25b0-61a5-4311-bbba-3ff0103cbe7f",
   "metadata": {},
   "source": [
    "Q2. Write a code to print the data type of each and every element of both the variables list_ and\n",
    "arra_list."
   ]
  },
  {
   "cell_type": "code",
   "execution_count": 14,
   "id": "a6cb5883-8bab-4251-9bc8-f1aba1bf4be4",
   "metadata": {},
   "outputs": [
    {
     "name": "stdout",
     "output_type": "stream",
     "text": [
      "['1', '2', '3', '4', '5']\n",
      "1 : <class 'str'>\n",
      "2 : <class 'str'>\n",
      "3 : <class 'str'>\n",
      "4 : <class 'str'>\n",
      "5 : <class 'str'>\n"
     ]
    }
   ],
   "source": [
    "print(list1)\n",
    "for i in list1:\n",
    "    print(i,':', type(i))"
   ]
  },
  {
   "cell_type": "code",
   "execution_count": 15,
   "id": "e585ead3-e7c2-48d0-8f98-2af37b4a3ac4",
   "metadata": {},
   "outputs": [
    {
     "name": "stdout",
     "output_type": "stream",
     "text": [
      "['1' '2' '3' '4' '5']\n",
      "1 : <class 'numpy.str_'>\n",
      "2 : <class 'numpy.str_'>\n",
      "3 : <class 'numpy.str_'>\n",
      "4 : <class 'numpy.str_'>\n",
      "5 : <class 'numpy.str_'>\n"
     ]
    }
   ],
   "source": [
    "print(array_list)\n",
    "for i in array_list:\n",
    "    print(i,':', type(i))"
   ]
  },
  {
   "cell_type": "code",
   "execution_count": 16,
   "id": "25ab2191-6a2b-4511-8fcf-4b5a8ed9700b",
   "metadata": {},
   "outputs": [],
   "source": [
    "array_list1 = np.array(object = list1, dtype = int)"
   ]
  },
  {
   "cell_type": "code",
   "execution_count": 18,
   "id": "fba04a8f-7cb9-4b79-a4b1-c6df0652e0b6",
   "metadata": {},
   "outputs": [
    {
     "name": "stdout",
     "output_type": "stream",
     "text": [
      "[1 2 3 4 5]\n",
      "1 : <class 'numpy.int64'>\n",
      "2 : <class 'numpy.int64'>\n",
      "3 : <class 'numpy.int64'>\n",
      "4 : <class 'numpy.int64'>\n",
      "5 : <class 'numpy.int64'>\n"
     ]
    }
   ],
   "source": [
    "print(array_list1)\n",
    "for i in array_list1:\n",
    "    print(i,':', type(i))"
   ]
  },
  {
   "cell_type": "code",
   "execution_count": 20,
   "id": "8e187fb3-db85-4cca-9ec9-4e28bed7913d",
   "metadata": {},
   "outputs": [],
   "source": [
    "num_list = [[1,2,3], [4,5,6]]\n",
    "num_array = np.array(object = num_list)"
   ]
  },
  {
   "cell_type": "markdown",
   "id": "5aca1c9b-a970-4168-a4c7-54ebc35034de",
   "metadata": {},
   "source": [
    "Q4. Write a code to find the following characteristics of variable, num_array:\n",
    "(i) shape\n",
    "(ii) size"
   ]
  },
  {
   "cell_type": "code",
   "execution_count": 21,
   "id": "1c4ebf15-2267-4607-9e0b-1cd0b6954235",
   "metadata": {},
   "outputs": [
    {
     "data": {
      "text/plain": [
       "[[1, 2, 3], [4, 5, 6]]"
      ]
     },
     "execution_count": 21,
     "metadata": {},
     "output_type": "execute_result"
    }
   ],
   "source": [
    "num_list"
   ]
  },
  {
   "cell_type": "code",
   "execution_count": 23,
   "id": "10835bf1-ae32-4f49-b14c-4c23bcee16ca",
   "metadata": {},
   "outputs": [
    {
     "data": {
      "text/plain": [
       "(2, 3)"
      ]
     },
     "execution_count": 23,
     "metadata": {},
     "output_type": "execute_result"
    }
   ],
   "source": [
    "np.shape(num_list)"
   ]
  },
  {
   "cell_type": "code",
   "execution_count": 24,
   "id": "48bc7cc3-40ca-4730-92f6-0445d12ec23f",
   "metadata": {},
   "outputs": [
    {
     "data": {
      "text/plain": [
       "6"
      ]
     },
     "execution_count": 24,
     "metadata": {},
     "output_type": "execute_result"
    }
   ],
   "source": [
    "np.size(num_list)"
   ]
  },
  {
   "cell_type": "markdown",
   "id": "53cd264a-edf5-472a-863e-9ed79170dfd3",
   "metadata": {},
   "source": [
    "Q5. Write a code to create numpy array of 3*3 matrix containing zeros only, using a numpy array\n",
    "creation function."
   ]
  },
  {
   "cell_type": "code",
   "execution_count": 26,
   "id": "2b8455b7-6666-4034-aebe-cdae5c87d604",
   "metadata": {},
   "outputs": [
    {
     "data": {
      "text/plain": [
       "array([[0., 0., 0.],\n",
       "       [0., 0., 0.],\n",
       "       [0., 0., 0.]])"
      ]
     },
     "execution_count": 26,
     "metadata": {},
     "output_type": "execute_result"
    }
   ],
   "source": [
    "np.zeros((3,3))"
   ]
  },
  {
   "cell_type": "markdown",
   "id": "972cbde4-6209-4789-a8bd-95a0d1805fc0",
   "metadata": {},
   "source": [
    "Q6. Create an identity matrix of shape (5,5) using numpy functions?"
   ]
  },
  {
   "cell_type": "code",
   "execution_count": 27,
   "id": "2df048ae-5931-4f5b-b13a-b9c3db682e8e",
   "metadata": {},
   "outputs": [
    {
     "data": {
      "text/plain": [
       "array([[1., 0., 0., 0., 0.],\n",
       "       [0., 1., 0., 0., 0.],\n",
       "       [0., 0., 1., 0., 0.],\n",
       "       [0., 0., 0., 1., 0.],\n",
       "       [0., 0., 0., 0., 1.]])"
      ]
     },
     "execution_count": 27,
     "metadata": {},
     "output_type": "execute_result"
    }
   ],
   "source": [
    "np.eye(5)"
   ]
  }
 ],
 "metadata": {
  "kernelspec": {
   "display_name": "Python 3 (ipykernel)",
   "language": "python",
   "name": "python3"
  },
  "language_info": {
   "codemirror_mode": {
    "name": "ipython",
    "version": 3
   },
   "file_extension": ".py",
   "mimetype": "text/x-python",
   "name": "python",
   "nbconvert_exporter": "python",
   "pygments_lexer": "ipython3",
   "version": "3.10.8"
  }
 },
 "nbformat": 4,
 "nbformat_minor": 5
}
