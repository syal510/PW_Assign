{
 "cells": [
  {
   "cell_type": "markdown",
   "id": "03eca542-2a35-4314-954e-79cc99761294",
   "metadata": {},
   "source": [
    "## Exception Handling -1\n"
   ]
  },
  {
   "cell_type": "markdown",
   "id": "68a742be-d874-4045-86d3-724ccb85a72c",
   "metadata": {},
   "source": [
    "**Q1. What is an Exception in python? Write the difference between Exceptions and syntax errors**"
   ]
  },
  {
   "cell_type": "markdown",
   "id": "40caebb7-f1e1-4a1e-ac4c-246ff581867a",
   "metadata": {},
   "source": [
    "An exception is an event in python which occurs during the program execution that disrupts the normal flow of the program if not handled. Exeption represents an error in python. Syntax error is a type of exception which is raised when incorrect syntax is there in the code written."
   ]
  },
  {
   "cell_type": "markdown",
   "id": "ee41d216-2ab7-4ea5-af42-da690e9744e6",
   "metadata": {},
   "source": [
    "**Q2 What happens when an exception is not handled? Explain with an example**"
   ]
  },
  {
   "cell_type": "markdown",
   "id": "e58ad02c-f9a2-405d-8c9e-48a2a794c3b1",
   "metadata": {},
   "source": [
    "When an exception is not handled it raises an error leading to disruption of normal flow of the program. Example is as follows:\n"
   ]
  },
  {
   "cell_type": "code",
   "execution_count": 1,
   "id": "1d64e110-2125-438a-8384-465cbbb5c3a5",
   "metadata": {},
   "outputs": [
    {
     "ename": "ValueError",
     "evalue": "invalid literal for int() with base 10: 'Some sort of text'",
     "output_type": "error",
     "traceback": [
      "\u001b[0;31m---------------------------------------------------------------------------\u001b[0m",
      "\u001b[0;31mValueError\u001b[0m                                Traceback (most recent call last)",
      "Cell \u001b[0;32mIn[1], line 2\u001b[0m\n\u001b[1;32m      1\u001b[0m a \u001b[38;5;241m=\u001b[39m \u001b[38;5;124m\"\u001b[39m\u001b[38;5;124mSome sort of text\u001b[39m\u001b[38;5;124m\"\u001b[39m\n\u001b[0;32m----> 2\u001b[0m \u001b[38;5;28;43mint\u001b[39;49m\u001b[43m(\u001b[49m\u001b[43ma\u001b[49m\u001b[43m)\u001b[49m\n\u001b[1;32m      3\u001b[0m \u001b[38;5;28mprint\u001b[39m(\u001b[38;5;124m'\u001b[39m\u001b[38;5;124mNew line which has to start\u001b[39m\u001b[38;5;124m'\u001b[39m)\n",
      "\u001b[0;31mValueError\u001b[0m: invalid literal for int() with base 10: 'Some sort of text'"
     ]
    }
   ],
   "source": [
    "a = \"Some sort of text\"\n",
    "int(a)\n",
    "print('New line which has to start')"
   ]
  },
  {
   "cell_type": "markdown",
   "id": "35393b78-a3ec-47c9-84a0-264f5a65c9e7",
   "metadata": {},
   "source": [
    "In above example ValueError is not handled properly as string to integer type conversion is requested by the user. This will not lead the exceution of the next statement in the code. To resolve this exception handling is used as below:"
   ]
  },
  {
   "cell_type": "code",
   "execution_count": 2,
   "id": "e230bdb9-8854-4298-8b5b-8aa58dcc31a4",
   "metadata": {},
   "outputs": [
    {
     "name": "stdout",
     "output_type": "stream",
     "text": [
      "invalid literal for int() with base 10: 'Some sort of text'\n",
      "New line which has to start\n"
     ]
    }
   ],
   "source": [
    "try:\n",
    "    a = \"Some sort of text\"\n",
    "    int(a)\n",
    "except ValueError as e:\n",
    "    print(e)\n",
    "print('New line which has to start')\n"
   ]
  },
  {
   "cell_type": "markdown",
   "id": "d295c3a1-6529-411d-aea4-be87b76badbd",
   "metadata": {},
   "source": [
    "**Q3. Which Python statements are used to catch and handle exceptions? Explain with an example**"
   ]
  },
  {
   "cell_type": "markdown",
   "id": "5ba8d554-36c3-411c-9b00-34bcbfee064a",
   "metadata": {},
   "source": [
    "As seen in the previous code block example, try and except statements are used to catch and handle the exceptions."
   ]
  },
  {
   "cell_type": "markdown",
   "id": "43ec298e-1e35-40e7-87c0-c0e3690ab484",
   "metadata": {},
   "source": [
    "**Q4. Explain with an example:<br>\n",
    "a. try and else <br>\n",
    "b. finally <br>\n",
    "c. raise**"
   ]
  },
  {
   "cell_type": "markdown",
   "id": "39b84446-2e88-4af3-a429-346ae4e919db",
   "metadata": {},
   "source": [
    "a . try block lets us test a particular section of code for possible errors <br>\n",
    "else block will get exceuted when try block executes succesfully without any error.<br>\n",
    "b. finally block will get executed regardless of whether the try and except blocks get executed with or without any error. <br>\n",
    "c. raise will raise any custom exception which is logically required by the user.\n"
   ]
  },
  {
   "cell_type": "markdown",
   "id": "5960adb3-5c29-4ed0-8b7c-17edd26b5d6f",
   "metadata": {},
   "source": [
    "**Q5. What are Custom Exceptions in python? Why do we need Custom Exceptions? Explain with an example**"
   ]
  },
  {
   "cell_type": "markdown",
   "id": "b6a0bc45-ccc9-4f1d-8a4b-c3cb9e89ba6f",
   "metadata": {},
   "source": [
    "Custom exceptions are used when a parameter is to be logically tested for its relevance irrespective of it being programmatically correct. Example magnitude of speed of car can't be negative."
   ]
  },
  {
   "cell_type": "markdown",
   "id": "d164271a-a65f-4d26-a66b-1e9f4100e8a8",
   "metadata": {},
   "source": [
    "**Q6. Create a custom exception class. Use this class to handle an exception.**"
   ]
  },
  {
   "cell_type": "code",
   "execution_count": 3,
   "id": "59a9817c-3389-4f5b-8b18-fc446ed77505",
   "metadata": {},
   "outputs": [],
   "source": [
    "class speed_validate_class(Exception):\n",
    "    def __init__(self, msg):\n",
    "        self.msg = msg\n",
    "\n",
    "def speed_validate(speed):\n",
    "    if speed<0:\n",
    "        raise speed_validate_class(\"No bro. Speed was greater than zero\")\n",
    "    elif speed>170:\n",
    "        raise speed_validate_class(\"No bro. Lord Alto cannot reach this speed.\")\n",
    "   "
   ]
  },
  {
   "cell_type": "code",
   "execution_count": 4,
   "id": "18c7445a-06a3-4cc1-9cd9-9a8a67e598e0",
   "metadata": {},
   "outputs": [
    {
     "name": "stdin",
     "output_type": "stream",
     "text": [
      "at what speed you were drunk driving yesterday?? 40\n"
     ]
    },
    {
     "name": "stdout",
     "output_type": "stream",
     "text": [
      "your speed was 40\n"
     ]
    }
   ],
   "source": [
    "try:\n",
    "    speed  = int(input(\"at what speed you were drunk driving yesterday??\"))\n",
    "    speed_validate(speed)\n",
    "except speed_validate_class as e:\n",
    "    print(e)\n",
    "else:\n",
    "    print(\"your speed was\",speed)"
   ]
  },
  {
   "cell_type": "code",
   "execution_count": 5,
   "id": "464a6cd5-3be4-4b30-9504-a35c95d5d578",
   "metadata": {},
   "outputs": [
    {
     "name": "stdin",
     "output_type": "stream",
     "text": [
      "at what speed you were drunk driving yesterday?? -50\n"
     ]
    },
    {
     "name": "stdout",
     "output_type": "stream",
     "text": [
      "No bro. Speed was greater than zero\n"
     ]
    }
   ],
   "source": [
    "try:\n",
    "    speed  = int(input(\"at what speed you were drunk driving yesterday??\"))\n",
    "    speed_validate(speed)\n",
    "except speed_validate_class as e:\n",
    "    print(e)\n",
    "else:\n",
    "    print(\"your speed was\",speed)"
   ]
  },
  {
   "cell_type": "code",
   "execution_count": 6,
   "id": "825c9f97-1e4d-4277-9653-50d5e22bb43d",
   "metadata": {},
   "outputs": [
    {
     "name": "stdin",
     "output_type": "stream",
     "text": [
      "at what speed you were drunk driving yesterday?? 190\n"
     ]
    },
    {
     "name": "stdout",
     "output_type": "stream",
     "text": [
      "No bro. Lord Alto cannot reach this speed.\n"
     ]
    }
   ],
   "source": [
    "try:\n",
    "    speed  = int(input(\"at what speed you were drunk driving yesterday??\"))\n",
    "    speed_validate(speed)\n",
    "except speed_validate_class as e:\n",
    "    print(e)\n",
    "else:\n",
    "    print(\"your speed was\",speed)"
   ]
  }
 ],
 "metadata": {
  "kernelspec": {
   "display_name": "Python 3 (ipykernel)",
   "language": "python",
   "name": "python3"
  },
  "language_info": {
   "codemirror_mode": {
    "name": "ipython",
    "version": 3
   },
   "file_extension": ".py",
   "mimetype": "text/x-python",
   "name": "python",
   "nbconvert_exporter": "python",
   "pygments_lexer": "ipython3",
   "version": "3.10.8"
  }
 },
 "nbformat": 4,
 "nbformat_minor": 5
}
